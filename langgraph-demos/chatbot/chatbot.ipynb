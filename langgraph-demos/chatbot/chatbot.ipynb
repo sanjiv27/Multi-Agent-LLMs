{
 "cells": [
  {
   "cell_type": "code",
   "execution_count": 1,
   "metadata": {},
   "outputs": [],
   "source": [
    "from typing import Annotated\n",
    "\n",
    "from typing_extensions import TypedDict\n",
    "\n",
    "from langgraph.graph import StateGraph, START, END\n",
    "from langgraph.graph.message import add_messages\n",
    "\n",
    "\n",
    "class State(TypedDict):\n",
    "    # Messages have the type \"list\". The `add_messages` function\n",
    "    # in the annotation defines how this state key should be updated\n",
    "    # (in this case, it appends messages to the list, rather than overwriting them)\n",
    "    messages: Annotated[list, add_messages]\n",
    "\n",
    "\n",
    "graph_builder = StateGraph(State)"
   ]
  },
  {
   "cell_type": "code",
   "execution_count": 2,
   "metadata": {},
   "outputs": [],
   "source": [
    "import importlib\n",
    "import os\n",
    "from langchain.chat_models import init_chat_model\n",
    "\n",
    "settings_path = os.path.abspath(\"../../config/settings.py\")\n",
    "spec = importlib.util.spec_from_file_location(\"settings\", settings_path)\n",
    "settings = importlib.util.module_from_spec(spec)\n",
    "spec.loader.exec_module(settings)\n",
    "\n",
    "os.environ[\"PPLX_API_KEY\"] = settings.PERPLEXITY_API_KEY\n",
    "\n",
    "llm = init_chat_model(\"sonar-pro\", model_provider=\"perplexity\")\n",
    "# llm.invoke(\"hello\")"
   ]
  },
  {
   "cell_type": "code",
   "execution_count": 3,
   "metadata": {},
   "outputs": [
    {
     "data": {
      "text/plain": [
       "<langgraph.graph.state.StateGraph at 0x104972e40>"
      ]
     },
     "execution_count": 3,
     "metadata": {},
     "output_type": "execute_result"
    }
   ],
   "source": [
    "def chatbot(state: State):\n",
    "    return {\"messages\": [llm.invoke(state[\"messages\"])]}\n",
    "\n",
    "\n",
    "# The first argument is the unique node name\n",
    "# The second argument is the function or object that will be called whenever\n",
    "# the node is used.\n",
    "graph_builder.add_node(\"chatbot\", chatbot)"
   ]
  },
  {
   "cell_type": "code",
   "execution_count": 4,
   "metadata": {},
   "outputs": [
    {
     "data": {
      "image/png": "[encoded data removed]",
      "text/plain": [
       "<IPython.core.display.Image object>"
      ]
     },
     "metadata": {},
     "output_type": "display_data"
    }
   ],
   "source": [
    "# entry point to start the work\n",
    "graph_builder.add_edge(START, \"chatbot\")\n",
    "\n",
    "# exit point for more clarity\n",
    "graph_builder.add_edge(\"chatbot\", END)\n",
    "\n",
    "\n",
    "#compile and visualize\n",
    "graph = graph_builder.compile()\n",
    "from IPython.display import Image, display\n",
    "\n",
    "try:\n",
    "    display(Image(graph.get_graph().draw_mermaid_png()))\n",
    "except Exception:\n",
    "    # This requires some extra dependencies and is optional\n",
    "    pass"
   ]
  },
  {
   "cell_type": "code",
   "execution_count": 19,
   "metadata": {},
   "outputs": [
    {
     "name": "stdout",
     "output_type": "stream",
     "text": [
      "Assistant: **Hi** is an informal greeting commonly used in English, typically among people who know each other. It is considered more casual than \"hello\" and is often used in everyday situations to acknowledge someone or start a conversation[1][5]. The pronunciation is /haɪ/[1]. \n",
      "\n",
      "In other contexts, \"hi\" can have different meanings. For example, in Basque, \"hi\" is an informal pronoun used between close friends or family members, with specific grammatical rules for its use[2].\n",
      "Assistant: LangGraph is a **framework for building agentic and multi-agent applications** powered by large language models (LLMs)[1][2][3][4]. It is part of the LangChain ecosystem but can be used independently. LangGraph enables developers to design, coordinate, and execute workflows where AI agents—or multiple collaborating agents—can perform complex tasks such as answering emails, managing schedules, analyzing data, or providing customer support[1][4].\n",
      "\n",
      "Key features of LangGraph include:\n",
      "\n",
      "- **Agentic Capabilities:** Lets AI agents act independently, make decisions, and complete tasks without constant human intervention[1][3].\n",
      "- **Multi-Agent Workflows:** Supports building systems in which several AI agents can interact, divide tasks, and collaborate to solve more complex problems[1][4].\n",
      "- **Directed Graph Structure:** Workflows are designed as directed graphs, where each node represents a processing step (e.g., LLM call, tool invocation, decision-making), and edges define transitions between steps[2].\n",
      "- **State Management:** Maintains and passes user-defined state between nodes to keep context and manage complex logic[2][3].\n",
      "- **Reliability and Scalability:** Offers robust features for error handling, state persistence, and scaling to enterprise-level applications[3][4].\n",
      "- **Flexibility and Extensibility:** Allows deep customization, including custom agent logic, communication protocols, and workflow control[3][4].\n",
      "- **First-Class Streaming and Visualization:** Supports real-time streaming of agent reasoning and actions, plus built-in tools for workflow visualization and debugging[3].\n",
      "\n",
      "In summary, LangGraph is designed for developers and organizations that want to build reliable, adaptable, and scalable AI agent systems, especially where multiple agents or complex decision logic is required[1][2][4].\n",
      "Goodbye!\n"
     ]
    }
   ],
   "source": [
    "def stream_graph_updates(user_input: str):\n",
    "    for event in graph.stream({\"messages\": [{\"role\": \"user\", \"content\": user_input}]}):\n",
    "        for value in event.values():\n",
    "            print(\"Assistant:\", value[\"messages\"][-1].content)\n",
    "\n",
    "\n",
    "while True:\n",
    "    try:\n",
    "        user_input = input(\"User: \")\n",
    "        if user_input.lower() in [\"quit\", \"exit\", \"q\"]:\n",
    "            print(\"Goodbye!\")\n",
    "            break\n",
    "        stream_graph_updates(user_input)\n",
    "    except:\n",
    "        # fallback if input() is not available\n",
    "        user_input = \"What do you know about LangGraph?\"\n",
    "        print(\"User: \" + user_input)\n",
    "        stream_graph_updates(user_input)\n",
    "        break"
   ]
  },
  {
   "cell_type": "markdown",
   "metadata": {},
   "source": [
    "# Adding tools like web search"
   ]
  },
  {
   "cell_type": "code",
   "execution_count": 22,
   "metadata": {},
   "outputs": [
    {
     "data": {
      "text/plain": [
       "{'query': \"What's a 'node' in LangGraph?\",\n",
       " 'follow_up_questions': None,\n",
       " 'answer': None,\n",
       " 'images': [],\n",
       " 'results': [{'url': 'https://medium.com/@vivekvjnk/langgraph-basics-understanding-state-schema-nodes-and-edges-77f2fd17cae5',\n",
       "   'title': 'LangGraph Basics: Understanding State, Schema, Nodes, and Edges',\n",
       "   'content': 'Nodes: Perform the actual work. Nodes contain Python code that can execute any logic, from simple computations to LLM calls or integrations.',\n",
       "   'score': 0.79254496,\n",
       "   'raw_content': None},\n",
       "  {'url': 'https://blog.langchain.dev/langgraph/',\n",
       "   'title': 'LangGraph - LangChain Blog',\n",
       "   'content': \"TL;DR: LangGraph is module built on top of LangChain to better enable creation of cyclical graphs, often needed for agent runtimes. This state is updated by nodes in the graph, which return operations to attributes of this state (in the form of a key-value store). After adding nodes, you can then add edges to create the graph. An example of this may be in the basic agent runtime, where we always want the model to be called after we call a tool. The state of this graph by default contains concepts that should be familiar to you if you've used LangChain agents: `input`, `chat_history`, `intermediate_steps` (and `agent_outcome` to represent the most recent agent outcome)\",\n",
       "   'score': 0.7407191,\n",
       "   'raw_content': None}],\n",
       " 'response_time': 1.46}"
      ]
     },
     "execution_count": 22,
     "metadata": {},
     "output_type": "execute_result"
    }
   ],
   "source": [
    "from langchain_tavily import TavilySearch\n",
    "\n",
    "os.environ[\"TAVILY_API_KEY\"] = settings.TAVILY_API_KEY\n",
    "tool = TavilySearch(max_results=2)\n",
    "tools = [tool]\n",
    "tool.invoke(\"What's a 'node' in LangGraph?\")"
   ]
  },
  {
   "cell_type": "code",
   "execution_count": 9,
   "metadata": {},
   "outputs": [
    {
     "ename": "NameError",
     "evalue": "name 'tools' is not defined",
     "output_type": "error",
     "traceback": [
      "\u001b[31m---------------------------------------------------------------------------\u001b[39m",
      "\u001b[31mNameError\u001b[39m                                 Traceback (most recent call last)",
      "\u001b[36mCell\u001b[39m\u001b[36m \u001b[39m\u001b[32mIn[9]\u001b[39m\u001b[32m, line 1\u001b[39m\n\u001b[32m----> \u001b[39m\u001b[32m1\u001b[39m llm_with_tools = llm.bind_tools(\u001b[43mtools\u001b[49m)\n\u001b[32m      2\u001b[39m \u001b[38;5;28;01mdef\u001b[39;00m\u001b[38;5;250m \u001b[39m\u001b[34mchatbot_withSearch\u001b[39m(state: State):\n\u001b[32m      3\u001b[39m     \u001b[38;5;28;01mreturn\u001b[39;00m {\u001b[33m\"\u001b[39m\u001b[33mmessages\u001b[39m\u001b[33m\"\u001b[39m: [llm_with_tools.invoke(state[\u001b[33m\"\u001b[39m\u001b[33mmessages\u001b[39m\u001b[33m\"\u001b[39m])]}\n",
      "\u001b[31mNameError\u001b[39m: name 'tools' is not defined"
     ]
    }
   ],
   "source": [
    "llm_with_tools = llm.bind_tools(tools)\n",
    "def chatbot_withSearch(state: State):\n",
    "    return {\"messages\": [llm_with_tools.invoke(state[\"messages\"])]}\n",
    "\n",
    "# pERPlexity doesnt support tool calling :("
   ]
  },
  {
   "cell_type": "code",
   "execution_count": 6,
   "metadata": {},
   "outputs": [],
   "source": [
    "from langchain.tools import tool\n",
    "\n",
    "@tool\n",
    "def search_web(query: str) -> str:\n",
    "    '''Example stub for search'''\n",
    "    return f\"Search results for '{query}'\"\n",
    "\n",
    "# create tool node and appedn to messages\n",
    "def tool_node(state: dict) -> dict:\n",
    "    result = llm_with_tools.invoke(state[\"messages\"])\n",
    "    return {\"messages\": state[\"messages\"] + [result]}"
   ]
  },
  {
   "cell_type": "code",
   "execution_count": 8,
   "metadata": {},
   "outputs": [
    {
     "name": "stderr",
     "output_type": "stream",
     "text": [
      "Adding a node to a graph that has already been compiled. This will not be reflected in the compiled graph.\n",
      "Adding an edge to a graph that has already been compiled. This will not be reflected in the compiled graph.\n"
     ]
    }
   ],
   "source": [
    "# conditional routing based on if web search is necessary (told by our llm)\n",
    "def route_tools(state: State):\n",
    "    if isinstance(state, list):\n",
    "        ai_message = state[-1]\n",
    "    elif messages := state.get(\"messages\", []):\n",
    "        ai_message = messages[-1]\n",
    "    else:\n",
    "        raise ValueError(f\"No messages found in input state to tool_edge: {state}\")\n",
    "\n",
    "    if hasattr(ai_message, \"tool_calls\") and len(ai_message.tool_calls) > 0:\n",
    "        return \"tools\"\n",
    "    return END\n",
    "\n",
    "graph_builder.add_node(\"tools\", tool_node)\n",
    "# The `tools_condition` function returns \"tools\" if the chatbot asks to use a tool, and \"END\" if\n",
    "# it is fine directly responding. This conditional routing defines the main agent loop.\n",
    "graph_builder.add_conditional_edges(\n",
    "    \"chatbot\",\n",
    "    route_tools,\n",
    "    # The following dictionary lets you tell the graph to interpret the condition's outputs as a specific node\n",
    "    # It defaults to the identity function, but if you\n",
    "    # want to use a node named something else apart from \"tools\",\n",
    "    # You can update the value of the dictionary to something else\n",
    "    # e.g., \"tools\": \"my_tools\"\n",
    "    {\"tools\": \"tools\", END: END},\n",
    ")\n",
    "\n",
    "graph = graph_builder.compile()\n"
   ]
  },
  {
   "cell_type": "code",
   "execution_count": 10,
   "metadata": {},
   "outputs": [
    {
     "data": {
      "image/png": "[encoded data removed]",
      "text/plain": [
       "<IPython.core.display.Image object>"
      ]
     },
     "metadata": {},
     "output_type": "display_data"
    }
   ],
   "source": [
    "from IPython.display import Image, display\n",
    "\n",
    "try:\n",
    "    display(Image(graph.get_graph().draw_mermaid_png()))\n",
    "except Exception:\n",
    "    pass"
   ]
  },
  {
   "cell_type": "markdown",
   "metadata": {},
   "source": [
    "# adding in-memory"
   ]
  },
  {
   "cell_type": "code",
   "execution_count": 11,
   "metadata": {},
   "outputs": [],
   "source": [
    "from langgraph.checkpoint.memory import MemorySaver\n",
    "\n",
    "memory = MemorySaver()"
   ]
  },
  {
   "cell_type": "code",
   "execution_count": 13,
   "metadata": {},
   "outputs": [
    {
     "name": "stdout",
     "output_type": "stream",
     "text": [
      "================================\u001b[1m Human Message \u001b[0m=================================\n",
      "\n",
      "Hi there! My name is Sanjiv.\n",
      "==================================\u001b[1m Ai Message \u001b[0m==================================\n",
      "\n",
      "Hello Sanjiv! How can I assist you today? If you have any questions or need help with something, feel free to let me know.\n"
     ]
    }
   ],
   "source": [
    "graph = graph_builder.compile(checkpointer=memory)\n",
    "\n",
    "config = {\"configurable\": {\"thread_id\": \"1\"}}\n",
    "user_input = \"Hi there! My name is Sanjiv.\"\n",
    "\n",
    "# The config is the **second positional argument** to stream() or invoke()!\n",
    "events = graph.stream(\n",
    "    {\"messages\": [{\"role\": \"user\", \"content\": user_input}]},\n",
    "    config,\n",
    "    stream_mode=\"values\",\n",
    ")\n",
    "for event in events:\n",
    "    event[\"messages\"][-1].pretty_print()\n"
   ]
  },
  {
   "cell_type": "code",
   "execution_count": 14,
   "metadata": {},
   "outputs": [
    {
     "name": "stdout",
     "output_type": "stream",
     "text": [
      "================================\u001b[1m Human Message \u001b[0m=================================\n",
      "\n",
      "Remember my name?\n",
      "==================================\u001b[1m Ai Message \u001b[0m==================================\n",
      "\n",
      "Yes, I remember that your name is **Sanjiv**. Remembering user names helps create a more personalized and engaging conversation, just as personalization features in AI assistants are designed to recall details like names and preferences across interactions[2][4]. If you’d like me to remember anything else or use your name in our future conversations, just let me know!\n"
     ]
    }
   ],
   "source": [
    "user_input = \"Remember my name?\"\n",
    "\n",
    "# The config is the **second positional argument** to stream() or invoke()!\n",
    "events = graph.stream(\n",
    "    {\"messages\": [{\"role\": \"user\", \"content\": user_input}]},\n",
    "    config,\n",
    "    stream_mode=\"values\",\n",
    ")\n",
    "for event in events:\n",
    "    event[\"messages\"][-1].pretty_print()"
   ]
  },
  {
   "cell_type": "code",
   "execution_count": 15,
   "metadata": {},
   "outputs": [
    {
     "data": {
      "text/plain": [
       "StateSnapshot(values={'messages': [HumanMessage(content='Hi there! My name is Sanjiv.', additional_kwargs={}, response_metadata={}, id='4d510145-9164-4c8b-9213-44074442f1ca'), AIMessage(content='Hello Sanjiv! How can I assist you today? If you have any questions or need help with something, feel free to let me know.', additional_kwargs={'citations': ['https://www.youtube.com/channel/UCVoj1HOaUlq2hw9uBHwwHVg', 'https://www.instagram.com/p/Cvf_SJItEax/', 'https://shirtscope.com/gshirts.php?id=318421', 'https://www.youtube.com/watch?v=kezxh40pkoc', 'https://support.google.com/accounts/thread/135348249/hello-sir-my-name-is-sanjeev-verma-and-someone-hacked-my-gmail-account-please-help-me-to-get-back']}, response_metadata={'model_name': 'sonar-pro'}, id='run--4ccb4162-09eb-4c29-b134-12b84bef7662-0', usage_metadata={'input_tokens': 10, 'output_tokens': 30, 'total_tokens': 40}), HumanMessage(content='Remember my name?', additional_kwargs={}, response_metadata={}, id='b9b12d39-28f1-472d-860c-00f5a04ddb7c'), AIMessage(content='Yes, I remember that your name is **Sanjiv**. Remembering user names helps create a more personalized and engaging conversation, just as personalization features in AI assistants are designed to recall details like names and preferences across interactions[2][4]. If you’d like me to remember anything else or use your name in our future conversations, just let me know!', additional_kwargs={'citations': ['https://www.youtube.com/watch?v=IOVYSQyqknE', 'https://telnyx.com/resources/ai-assistant-personalization', 'https://community.openai.com/t/the-power-of-naming-chatgpt-assistants/1234840', 'https://www.youtube.com/watch?v=TqRaCpQJbEA', 'https://www.gnani.ai/resources/blogs/memory-enabled-ai-assistants-that-remember-every-interaction/']}, response_metadata={'model_name': 'sonar-pro'}, id='run--106525d2-4a96-4aa4-bed4-bbd419671096-0', usage_metadata={'input_tokens': 44, 'output_tokens': 74, 'total_tokens': 118})]}, next=(), config={'configurable': {'thread_id': '1', 'checkpoint_ns': '', 'checkpoint_id': '1f064adf-447d-6cc4-8004-a2ea237fa5ce'}}, metadata={'source': 'loop', 'step': 4, 'parents': {}}, created_at='2025-07-19T14:37:53.895517+00:00', parent_config={'configurable': {'thread_id': '1', 'checkpoint_ns': '', 'checkpoint_id': '1f064adf-25cc-6924-8003-906478ca81ee'}}, tasks=(), interrupts=())"
      ]
     },
     "execution_count": 15,
     "metadata": {},
     "output_type": "execute_result"
    }
   ],
   "source": [
    "snapshot = graph.get_state(config)\n",
    "snapshot"
   ]
  }
 ],
 "metadata": {
  "kernelspec": {
   "display_name": "venv",
   "language": "python",
   "name": "python3"
  },
  "language_info": {
   "codemirror_mode": {
    "name": "ipython",
    "version": 3
   },
   "file_extension": ".py",
   "mimetype": "text/x-python",
   "name": "python",
   "nbconvert_exporter": "python",
   "pygments_lexer": "ipython3",
   "version": "3.13.3"
  }
 },
 "nbformat": 4,
 "nbformat_minor": 2
}
